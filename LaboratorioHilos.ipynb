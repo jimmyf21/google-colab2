{
  "nbformat": 4,
  "nbformat_minor": 0,
  "metadata": {
    "colab": {
      "provenance": [],
      "authorship_tag": "ABX9TyM8gTivrhBe6S182PiyeyGk",
      "include_colab_link": true
    },
    "kernelspec": {
      "name": "python3",
      "display_name": "Python 3"
    },
    "language_info": {
      "name": "python"
    }
  },
  "cells": [
    {
      "cell_type": "markdown",
      "metadata": {
        "id": "view-in-github",
        "colab_type": "text"
      },
      "source": [
        "<a href=\"https://colab.research.google.com/github/jimmyf21/google-colab2/blob/main/LaboratorioHilos.ipynb\" target=\"_parent\"><img src=\"https://colab.research.google.com/assets/colab-badge.svg\" alt=\"Open In Colab\"/></a>"
      ]
    },
    {
      "cell_type": "code",
      "execution_count": null,
      "metadata": {
        "id": "0z8tND_C7UDS"
      },
      "outputs": [],
      "source": []
    },
    {
      "cell_type": "code",
      "source": [
        "import threading\n",
        "import random\n",
        "import time\n",
        "\n",
        "def ordena_subvector(subvector, hilo):\n",
        "  tiempo_inicio = time.time()\n",
        "  subvector.sort()\n",
        "  print(subvector)\n",
        "  tiempo_fin = time.time()\n",
        "  tiempo_ejecucion = tiempo_fin - tiempo_inicio\n",
        "  print(f\"Hilo {hilo}: Subvector ordenado (Tiempo: {tiempo_ejecucion} segundos)\")"
      ],
      "metadata": {
        "id": "WaRkg0qZ_pyK"
      },
      "execution_count": null,
      "outputs": []
    },
    {
      "cell_type": "code",
      "source": [
        "\n",
        "def dividir_vector(vector, num_hilos):\n",
        "  longitud_subvector = len(vector) // num_hilos\n",
        "  subvectores = [vector[i:i+longitud_subvector] for i in range(0, len(vector), longitud_subvector)]\n",
        "  return subvectores"
      ],
      "metadata": {
        "id": "An9DVogU_rqM"
      },
      "execution_count": null,
      "outputs": []
    },
    {
      "cell_type": "code",
      "source": [
        "def unir_vectores(subvectores):\n",
        "  vector_ordenado = [num for subvector in subvectores for num in subvector]\n",
        "  return vector_ordenado\n"
      ],
      "metadata": {
        "id": "mjVNJDE1_tJB"
      },
      "execution_count": null,
      "outputs": []
    },
    {
      "cell_type": "code",
      "source": [
        "def ordenar_vector(vector, num_hilos):\n",
        "  subvectores = dividir_vector(vector, num_hilos)\n",
        "  threads = []\n",
        "\n",
        "  for i, subvector in enumerate(subvectores):\n",
        "    thread = threading.Thread(target=ordena_subvector, args=(subvector, i))\n",
        "    thread.start()\n",
        "    threads.append(thread)\n",
        "  for thread in threads:\n",
        "    thread.join()\n",
        "  vector_ordenado = unir_vectores(subvectores)\n",
        "  vector_ordenado.sort()\n",
        "  print(f\"Vector ordenado final: {vector_ordenado}\")"
      ],
      "metadata": {
        "id": "sYPVnrG7_uiT"
      },
      "execution_count": null,
      "outputs": []
    },
    {
      "cell_type": "code",
      "source": [
        "# main\n",
        "vector_grande = [random.randint(1, 100) for _ in range(100  )]\n",
        "# num_hilos = int(input(\"Ingrese la cantidad de hilos: \"))\n",
        "# Con 2 Hilos:\n",
        "ordenar_vector(vector=vector_grande, num_hilos=2)\n",
        "\n",
        "\n"
      ],
      "metadata": {
        "colab": {
          "base_uri": "https://localhost:8080/"
        },
        "id": "ujxFaiG87sMi",
        "outputId": "0cc88b4e-722c-4830-8e9c-b6e929aedc8d"
      },
      "execution_count": null,
      "outputs": [
        {
          "output_type": "stream",
          "name": "stdout",
          "text": [
            "[1, 2, 2, 3, 4, 5, 10, 11, 12, 13, 14, 15, 17, 17, 19, 24, 26, 27, 29, 30, 30, 34, 37, 38, 39, 45, 47, 48, 48, 49, 49, 54, 60, 61, 62, 66, 67, 69, 70, 70, 71, 72, 76, 77, 81, 83, 83, 86, 96, 96]\n",
            "Hilo 0: subvector ordenado (Tiempo: 0.0013556480407714844 segundos)\n",
            "[3, 3, 6, 11, 13, 16, 19, 19, 22, 23, 24, 26, 26, 30, 31, 31, 35, 35, 35, 39, 45, 46, 52, 52, 54, 59, 61, 63, 65, 66, 66, 67, 67, 67, 71, 72, 74, 74, 77, 78, 87, 89, 89, 92, 95, 95, 96, 99, 100, 100]\n",
            "Hilo 1: subvector ordenado (Tiempo: 0.000993490219116211 segundos)\n",
            "Vector ordenado final: [1, 2, 2, 3, 3, 3, 4, 5, 6, 10, 11, 11, 12, 13, 13, 14, 15, 16, 17, 17, 19, 19, 19, 22, 23, 24, 24, 26, 26, 26, 27, 29, 30, 30, 30, 31, 31, 34, 35, 35, 35, 37, 38, 39, 39, 45, 45, 46, 47, 48, 48, 49, 49, 52, 52, 54, 54, 59, 60, 61, 61, 62, 63, 65, 66, 66, 66, 67, 67, 67, 67, 69, 70, 70, 71, 71, 72, 72, 74, 74, 76, 77, 77, 78, 81, 83, 83, 86, 87, 89, 89, 92, 95, 95, 96, 96, 96, 99, 100, 100]\n"
          ]
        }
      ]
    },
    {
      "cell_type": "code",
      "source": [
        "# main\n",
        "vector_grande = [random.randint(1, 100) for _ in range(100  )]\n",
        "# num_hilos = int(input(\"Ingrese la cantidad de hilos: \"))\n",
        "# Con 4 Hilos:\n",
        "ordenar_vector(vector=vector_grande, num_hilos=4)\n"
      ],
      "metadata": {
        "colab": {
          "base_uri": "https://localhost:8080/"
        },
        "id": "97Ak9dd5suBQ",
        "outputId": "49915f9b-6e8a-47cb-cc83-52d33191e63b"
      },
      "execution_count": null,
      "outputs": [
        {
          "output_type": "stream",
          "name": "stdout",
          "text": [
            "[3, 5, 11, 15, 17, 22, 25, 28, 29, 33, 46, 48, 51, 51, 54, 55, 55, 65, 75, 76, 78, 79, 81, 87, 87]\n",
            "Hilo 0: subvector ordenado (Tiempo: 0.001322031021118164 segundos)\n",
            "[1, 9, 20, 20, 21, 25, 28, 31, 36, 39, 52, 54, 57, 59, 59, 59, 64, 75, 78, 78, 85, 90, 94, 96, 100][3, 6, 10, 15, 24, 28, 31, 32, 35, 37, 41, 44, 44, 59, 60, 63, 69, 77, 79, 80, 85, 87, 93, 95, 96]\n",
            "Hilo 1: subvector ordenado (Tiempo: 0.0023398399353027344 segundos)\n",
            "[1, 7, 7, 11, 14, 19, 28, 33, 34, 40, 42, 45, 45, 50, 56, 60, 62, 63, 71, 72, 79, 92, 93, 96, 99]\n",
            "Hilo 3: subvector ordenado (Tiempo: 0.00022101402282714844 segundos)\n",
            "\n",
            "Hilo 2: subvector ordenado (Tiempo: 0.0037903785705566406 segundos)\n",
            "Vector ordenado final: [1, 1, 3, 3, 5, 6, 7, 7, 9, 10, 11, 11, 14, 15, 15, 17, 19, 20, 20, 21, 22, 24, 25, 25, 28, 28, 28, 28, 29, 31, 31, 32, 33, 33, 34, 35, 36, 37, 39, 40, 41, 42, 44, 44, 45, 45, 46, 48, 50, 51, 51, 52, 54, 54, 55, 55, 56, 57, 59, 59, 59, 59, 60, 60, 62, 63, 63, 64, 65, 69, 71, 72, 75, 75, 76, 77, 78, 78, 78, 79, 79, 79, 80, 81, 85, 85, 87, 87, 87, 90, 92, 93, 93, 94, 95, 96, 96, 96, 99, 100]\n"
          ]
        }
      ]
    },
    {
      "cell_type": "code",
      "source": [
        "# main\n",
        "vector_grande = [random.randint(1, 100) for _ in range(100  )]\n",
        "# num_hilos = int(input(\"Ingrese la cantidad de hilos: \"))\n",
        "# Con 10 Hilos:\n",
        "ordenar_vector(vector=vector_grande, num_hilos=10)"
      ],
      "metadata": {
        "colab": {
          "base_uri": "https://localhost:8080/"
        },
        "id": "4Q2a8Qlfs5iP",
        "outputId": "e8bb3cbb-7d60-45c1-d287-b93b04c14187"
      },
      "execution_count": null,
      "outputs": [
        {
          "output_type": "stream",
          "name": "stdout",
          "text": [
            "[13, 15, 28, 41, 47, 52, 63, 73, 83, 84]\n",
            "Hilo 0: subvector ordenado (Tiempo: 0.0003745555877685547 segundos)\n",
            "[4, 7, 15, 25, 45, 49, 71, 71, 77, 98]\n",
            "Hilo 1: subvector ordenado (Tiempo: 0.0011258125305175781 segundos)\n",
            "[13, 14, 37, 40, 62, 69, 79, 82, 85, 92]\n",
            "Hilo 2: subvector ordenado (Tiempo: 0.0009617805480957031 segundos)\n",
            "[3, 4, 8, 17, 40, 41, 72, 81, 91, 95]\n",
            "Hilo 3: subvector ordenado (Tiempo: 0.0009236335754394531 segundos)\n",
            "[32, 57, 68, 73, 75, 83, 84, 91, 94, 100][6, 14, 16, 28, 38, 44, 66, 69, 75, 96]\n",
            "Hilo 4: subvector ordenado (Tiempo: 0.0007946491241455078 segundos)\n",
            "\n",
            "[16, 33, 35, 36, 37, 39, 51, 67, 76, 85]\n",
            "Hilo 6: subvector ordenado (Tiempo: 0.0001456737518310547 segundos)\n",
            "Hilo 5: subvector ordenado (Tiempo: 0.0017161369323730469 segundos)\n",
            "[9, 9, 22, 28, 54, 72, 76, 90, 93, 96]\n",
            "Hilo 7: subvector ordenado (Tiempo: 0.001965045928955078 segundos)\n",
            "[16, 30, 36, 44, 52, 60, 64, 65, 72, 90]\n",
            "Hilo 8: subvector ordenado (Tiempo: 0.00017523765563964844 segundos)\n",
            "[3, 24, 25, 33, 40, 55, 67, 71, 76, 99]\n",
            "Hilo 9: subvector ordenado (Tiempo: 0.0005269050598144531 segundos)\n",
            "Vector ordenado final: [3, 3, 4, 4, 6, 7, 8, 9, 9, 13, 13, 14, 14, 15, 15, 16, 16, 16, 17, 22, 24, 25, 25, 28, 28, 28, 30, 32, 33, 33, 35, 36, 36, 37, 37, 38, 39, 40, 40, 40, 41, 41, 44, 44, 45, 47, 49, 51, 52, 52, 54, 55, 57, 60, 62, 63, 64, 65, 66, 67, 67, 68, 69, 69, 71, 71, 71, 72, 72, 72, 73, 73, 75, 75, 76, 76, 76, 77, 79, 81, 82, 83, 83, 84, 84, 85, 85, 90, 90, 91, 91, 92, 93, 94, 95, 96, 96, 98, 99, 100]\n"
          ]
        }
      ]
    },
    {
      "cell_type": "markdown",
      "source": [],
      "metadata": {
        "id": "j0i0iqnzskfT"
      }
    },
    {
      "cell_type": "markdown",
      "source": [
        "**Sobrecarga de administración de hilos:** Se probó la función con 2, 4, y 10 hilos y se concluyó de que debido a que cada vez que se crea un hilo, hay una pequeña cantidad de tiempo y recursos invertidos en la creación, programación y finalización del hilo, por lo cual existe una sobrecarga con la que hace ineficiente el programa, por lo tanto, **lo ideal es realizarlo con dos hilos.**"
      ],
      "metadata": {
        "id": "5_Mbbj9jG2h6"
      }
    }
  ]
}